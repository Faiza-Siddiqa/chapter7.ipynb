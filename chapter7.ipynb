{
 "cells": [
  {
   "cell_type": "code",
   "execution_count": 1,
   "id": "20f76d22",
   "metadata": {},
   "outputs": [],
   "source": [
    "stuff = 'Hello\\nWorld!'"
   ]
  },
  {
   "cell_type": "code",
   "execution_count": 3,
   "id": "5c77e264",
   "metadata": {},
   "outputs": [
    {
     "name": "stdout",
     "output_type": "stream",
     "text": [
      "Hello\n",
      "World!\n"
     ]
    }
   ],
   "source": [
    "print(stuff)\n"
   ]
  },
  {
   "cell_type": "code",
   "execution_count": 6,
   "id": "8bdaf65a",
   "metadata": {},
   "outputs": [
    {
     "ename": "NameError",
     "evalue": "name 'HelloWorld' is not defined",
     "output_type": "error",
     "traceback": [
      "\u001b[1;31m---------------------------------------------------------------------------\u001b[0m",
      "\u001b[1;31mNameError\u001b[0m                                 Traceback (most recent call last)",
      "Cell \u001b[1;32mIn[6], line 1\u001b[0m\n\u001b[1;32m----> 1\u001b[0m HelloWorld\u001b[38;5;241m!=\u001b[39m\u001b[38;5;124m'\u001b[39m\u001b[38;5;124mX\u001b[39m\u001b[38;5;130;01m\\n\u001b[39;00m\u001b[38;5;124mY\u001b[39m\u001b[38;5;124m'\u001b[39m\n",
      "\u001b[1;31mNameError\u001b[0m: name 'HelloWorld' is not defined"
     ]
    }
   ],
   "source": [
    "HelloWorld!='X\\nY'\n"
   ]
  },
  {
   "cell_type": "code",
   "execution_count": null,
   "id": "bdf3f8ef",
   "metadata": {},
   "outputs": [],
   "source": [
    "fname = input('Enter the file name: ')\n",
    "\n"
   ]
  },
  {
   "cell_type": "code",
   "execution_count": null,
   "id": "a51a4ea9",
   "metadata": {},
   "outputs": [],
   "source": [
    "fhand = open(fname)\n"
   ]
  },
  {
   "cell_type": "code",
   "execution_count": null,
   "id": "79b00d88",
   "metadata": {},
   "outputs": [],
   "source": [
    "except:\n",
    "print('File cannot be opened:', fname)\n"
   ]
  },
  {
   "cell_type": "code",
   "execution_count": null,
   "id": "2ccd449c",
   "metadata": {},
   "outputs": [],
   "source": [
    "quit()\n"
   ]
  },
  {
   "cell_type": "code",
   "execution_count": null,
   "id": "1f24e85b",
   "metadata": {},
   "outputs": [],
   "source": [
    "count = 0\n"
   ]
  },
  {
   "cell_type": "code",
   "execution_count": null,
   "id": "e48f51f6",
   "metadata": {},
   "outputs": [],
   "source": [
    "for line in fhand:\n"
   ]
  },
  {
   "cell_type": "code",
   "execution_count": null,
   "id": "a017560b",
   "metadata": {},
   "outputs": [],
   "source": [
    "if line.startswith('Subject:') :\n"
   ]
  },
  {
   "cell_type": "code",
   "execution_count": null,
   "id": "2b1fd818",
   "metadata": {},
   "outputs": [],
   "source": [
    "count = count + 1\n",
    "print('There were', count, 'subject lines in', fname)"
   ]
  },
  {
   "cell_type": "code",
   "execution_count": null,
   "id": "a47aab5d",
   "metadata": {},
   "outputs": [],
   "source": [
    "fhand = open('mbox-short.txt')\n"
   ]
  },
  {
   "cell_type": "code",
   "execution_count": null,
   "id": "860f885a",
   "metadata": {},
   "outputs": [],
   "source": [
    "for line in fhand:\n"
   ]
  },
  {
   "cell_type": "code",
   "execution_count": null,
   "id": "8a4256cf",
   "metadata": {},
   "outputs": [],
   "source": [
    "line = line.rstrip()\n"
   ]
  },
  {
   "cell_type": "code",
   "execution_count": null,
   "id": "fb62a9fd",
   "metadata": {},
   "outputs": [],
   "source": [
    "if not '@uct.ac.za' in line : \n",
    "continue\n"
   ]
  },
  {
   "cell_type": "code",
   "execution_count": null,
   "id": "7dc4ef94",
   "metadata": {},
   "outputs": [],
   "source": [
    "print(line)\n",
    "From stephen.marquard@uct.ac.za Sat Jan 5 09:14:16 200"
   ]
  },
  {
   "cell_type": "code",
   "execution_count": null,
   "id": "b280e36c",
   "metadata": {},
   "outputs": [],
   "source": [
    "fhand = open('mbox-short.txt')\n"
   ]
  },
  {
   "cell_type": "code",
   "execution_count": null,
   "id": "cf170b6e",
   "metadata": {},
   "outputs": [],
   "source": [
    "for line in fhand:\n",
    "line = line.rstrip()\n",
    "if line.startswith('From:') :\n",
    "print(line)"
   ]
  },
  {
   "cell_type": "code",
   "execution_count": null,
   "id": "7a566f01",
   "metadata": {},
   "outputs": [],
   "source": []
  }
 ],
 "metadata": {
  "kernelspec": {
   "display_name": "Python 3 (ipykernel)",
   "language": "python",
   "name": "python3"
  },
  "language_info": {
   "codemirror_mode": {
    "name": "ipython",
    "version": 3
   },
   "file_extension": ".py",
   "mimetype": "text/x-python",
   "name": "python",
   "nbconvert_exporter": "python",
   "pygments_lexer": "ipython3",
   "version": "3.11.4"
  }
 },
 "nbformat": 4,
 "nbformat_minor": 5
}
